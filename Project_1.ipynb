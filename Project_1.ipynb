{
 "cells": [
  {
   "cell_type": "markdown",
   "metadata": {
    "id": "a1aN5zNpS-Bs"
   },
   "source": [
    "# Project 1\n",
    "## AutoML\n",
    "Team 3: Marko Lillemägi, Paula Marie Loopere, Mirjam Jesmin"
   ]
  },
  {
   "cell_type": "markdown",
   "metadata": {
    "id": "2_a5uhYLS-Ot"
   },
   "source": [
    "# Setup"
   ]
  },
  {
   "cell_type": "code",
   "execution_count": null,
   "metadata": {
    "colab": {
     "base_uri": "https://localhost:8080/"
    },
    "id": "qnquKBLZhHrv",
    "outputId": "087a2600-b107-408b-d684-d1d0a0237e3a"
   },
   "outputs": [
    {
     "name": "stderr",
     "output_type": "stream",
     "text": [
      "/usr/local/lib/python3.10/dist-packages/dask/dataframe/__init__.py:42: FutureWarning: \n",
      "Dask dataframe query planning is disabled because dask-expr is not installed.\n",
      "\n",
      "You can install it with `pip install dask[dataframe]` or `conda install dask`.\n",
      "This will raise in a future version.\n",
      "\n",
      "  warnings.warn(msg, FutureWarning)\n"
     ]
    }
   ],
   "source": [
    "import numpy as np\n",
    "import pandas as pd\n",
    "from sklearn import datasets\n",
    "from sklearn.model_selection import train_test_split\n",
    "from sklearn.metrics import accuracy_score\n",
    "from sklearn.linear_model import LogisticRegression, LinearRegression\n",
    "from sklearn.neighbors import KNeighborsClassifier\n",
    "from sklearn.tree import DecisionTreeClassifier\n",
    "from sklearn.gaussian_process import GaussianProcessRegressor\n",
    "from sklearn.ensemble import RandomForestClassifier, GradientBoostingClassifier, AdaBoostClassifier, ExtraTreesClassifier\n",
    "from sklearn.svm import SVC\n",
    "from sklearn.naive_bayes import GaussianNB\n",
    "from sklearn.discriminant_analysis import LinearDiscriminantAnalysis\n",
    "from xgboost import XGBClassifier\n",
    "from lightgbm import LGBMClassifier\n",
    "from sklearn.cluster import KMeans\n",
    "from sklearn.neural_network import MLPClassifier\n",
    "from sklearn.ensemble import VotingClassifier\n",
    "\n",
    "from sklearn.neighbors import KNeighborsRegressor\n",
    "from sklearn.tree import DecisionTreeRegressor\n",
    "from sklearn.ensemble import RandomForestRegressor, GradientBoostingRegressor, AdaBoostRegressor, VotingRegressor, ExtraTreesRegressor\n",
    "from sklearn.linear_model import Lasso, Ridge, LinearRegression\n",
    "from sklearn.svm import SVR\n",
    "from sklearn.neural_network import MLPRegressor\n",
    "from random import sample\n",
    "\n",
    "import xgboost as xgb\n",
    "import lightgbm as lgb\n",
    "\n",
    "from sklearn.metrics import mean_squared_error\n",
    "from sklearn.metrics import roc_auc_score, roc_curve,confusion_matrix,accuracy_score, precision_score, recall_score, f1_score, ConfusionMatrixDisplay\n",
    "\n",
    "from statsmodels.stats.contingency_tables import mcnemar"
   ]
  },
  {
   "cell_type": "markdown",
   "metadata": {
    "id": "IQnHQ7ksX200"
   },
   "source": [
    "# Data"
   ]
  },
  {
   "cell_type": "code",
   "execution_count": null,
   "metadata": {
    "id": "jCzEkGBKh8zl"
   },
   "outputs": [],
   "source": [
    "# Load the iris dataset\n",
    "data = datasets.load_iris()\n",
    "#data"
   ]
  },
  {
   "cell_type": "code",
   "execution_count": null,
   "metadata": {
    "id": "f4A-f98Ol4Jh"
   },
   "outputs": [],
   "source": [
    "X = data.data\n",
    "y = data.target\n",
    "random_state = 0\n",
    "\n",
    "X_train, X_test, y_train, y_test = train_test_split(X, y, test_size=0.3, stratify=y)\n"
   ]
  },
  {
   "cell_type": "markdown",
   "metadata": {
    "id": "Tzdk39nFMvsM"
   },
   "source": [
    "## New data\n"
   ]
  },
  {
   "cell_type": "code",
   "execution_count": 6,
   "metadata": {
    "colab": {
     "base_uri": "https://localhost:8080/"
    },
    "id": "GdRPiLJX_OFz",
    "outputId": "aebd0084-46a6-42a8-8ad3-0f352075f20a"
   },
   "outputs": [
    {
     "name": "stderr",
     "output_type": "stream",
     "text": [
      "<ipython-input-6-10be724a9adf>:1: DtypeWarning: Columns (26) have mixed types. Specify dtype option on import or set low_memory=False.\n",
      "  df = pd.read_csv('/content/sample_data/train.csv').sample(frac=0.2, random_state=0)\n"
     ]
    }
   ],
   "source": [
    "df = pd.read_csv('train.csv').sample(frac=0.2, random_state=0)\n",
    "\n",
    "df = df.dropna(subset=['Credit_Score'])\n",
    "df = df.drop(['ID','Name','SSN','Customer_ID'], axis=1)\n",
    "\n",
    "# Function to extract years and months\n",
    "def extract_years_months(duration):\n",
    "    if duration is None or pd.isna(duration):\n",
    "        return pd.Series([None, None])\n",
    "    parts = duration.split(' ')\n",
    "    years = int(parts[0])\n",
    "    months = int(parts[3])\n",
    "    return pd.Series([years, months])\n",
    "\n",
    "# Apply the function to the DataFrame\n",
    "df[['Years', 'Months']] = df['Credit_History_Age'].apply(extract_years_months)\n",
    "\n",
    "\n",
    "\n",
    "label_mapping = {'Good': 2, 'Standard': 1, 'Poor':0}\n",
    "df['Credit_Score'] = df['Credit_Score'].map(label_mapping)\n",
    "\n",
    "\n",
    "X = df.drop(['Credit_Score'], axis=1)\n",
    "y = df['Credit_Score']\n",
    "\n",
    "categorical_features = X.select_dtypes(include=['object']).columns\n",
    "\n",
    "\n",
    "\n",
    "for col in categorical_features:\n",
    "    X[col] = X[col].astype('category').cat.codes\n",
    "\n",
    "X.fillna(X.mean(), inplace=True)\n",
    "\n",
    "\n",
    "X_train, X_test, y_train, y_test = train_test_split(X, y, test_size=0.3, random_state=0)\n",
    "\n",
    "X_train_copy = X_train.copy()\n",
    "X_test_copy = X_test.copy()\n",
    "\n",
    "\n",
    "\n",
    "X_test = X_test.drop(['Years', 'Months'], axis=1)\n",
    "X_train = X_train.drop(['Years', 'Months'], axis=1)\n",
    "\n",
    "X_train_copy = X_train_copy.drop(['Credit_History_Age'], axis=1)\n",
    "X_test_copy = X_test_copy.drop(['Credit_History_Age'], axis=1)\n",
    "# Convert all categorical features to integers automatically\n"
   ]
  },
  {
   "cell_type": "code",
   "execution_count": 7,
   "metadata": {
    "colab": {
     "base_uri": "https://localhost:8080/"
    },
    "id": "X9_LZI_KY_YR",
    "outputId": "89a4e013-6d1c-4fb4-c72c-ebd6dbea889b"
   },
   "outputs": [
    {
     "data": {
      "text/plain": [
       "Index(['Month', 'Age', 'Occupation', 'Annual_Income', 'Monthly_Inhand_Salary',\n",
       "       'Num_Bank_Accounts', 'Num_Credit_Card', 'Interest_Rate', 'Num_of_Loan',\n",
       "       'Type_of_Loan', 'Delay_from_due_date', 'Num_of_Delayed_Payment',\n",
       "       'Changed_Credit_Limit', 'Num_Credit_Inquiries', 'Credit_Mix',\n",
       "       'Outstanding_Debt', 'Credit_Utilization_Ratio', 'Payment_of_Min_Amount',\n",
       "       'Total_EMI_per_month', 'Amount_invested_monthly', 'Payment_Behaviour',\n",
       "       'Monthly_Balance', 'Years', 'Months'],\n",
       "      dtype='object')"
      ]
     },
     "execution_count": 7,
     "metadata": {},
     "output_type": "execute_result"
    }
   ],
   "source": [
    "X_train_copy.columns"
   ]
  },
  {
   "cell_type": "code",
   "execution_count": 8,
   "metadata": {
    "colab": {
     "base_uri": "https://localhost:8080/"
    },
    "id": "FKNZC-vfgnBq",
    "outputId": "2f621e80-c909-4588-c647-2fe185cf935e"
   },
   "outputs": [
    {
     "data": {
      "text/plain": [
       "Index(['Month', 'Age', 'Occupation', 'Annual_Income', 'Monthly_Inhand_Salary',\n",
       "       'Num_Bank_Accounts', 'Num_Credit_Card', 'Interest_Rate', 'Num_of_Loan',\n",
       "       'Type_of_Loan', 'Delay_from_due_date', 'Num_of_Delayed_Payment',\n",
       "       'Changed_Credit_Limit', 'Num_Credit_Inquiries', 'Credit_Mix',\n",
       "       'Outstanding_Debt', 'Credit_Utilization_Ratio', 'Credit_History_Age',\n",
       "       'Payment_of_Min_Amount', 'Total_EMI_per_month',\n",
       "       'Amount_invested_monthly', 'Payment_Behaviour', 'Monthly_Balance'],\n",
       "      dtype='object')"
      ]
     },
     "execution_count": 8,
     "metadata": {},
     "output_type": "execute_result"
    }
   ],
   "source": [
    "X_train.columns"
   ]
  },
  {
   "cell_type": "markdown",
   "metadata": {
    "id": "HuXP6qv0htpq"
   },
   "source": [
    "# Step 1: Baseline"
   ]
  },
  {
   "cell_type": "code",
   "execution_count": 9,
   "metadata": {
    "colab": {
     "base_uri": "https://localhost:8080/"
    },
    "id": "d4uzNvzohtcA",
    "outputId": "4750d29d-0644-4692-f40f-617f5dcb1c1b"
   },
   "outputs": [
    {
     "name": "stderr",
     "output_type": "stream",
     "text": [
      "/usr/local/lib/python3.10/dist-packages/sklearn/linear_model/_logistic.py:469: ConvergenceWarning: lbfgs failed to converge (status=1):\n",
      "STOP: TOTAL NO. of ITERATIONS REACHED LIMIT.\n",
      "\n",
      "Increase the number of iterations (max_iter) or scale the data as shown in:\n",
      "    https://scikit-learn.org/stable/modules/preprocessing.html\n",
      "Please also refer to the documentation for alternative solver options:\n",
      "    https://scikit-learn.org/stable/modules/linear_model.html#logistic-regression\n",
      "  n_iter_i = _check_optimize_result(\n"
     ]
    },
    {
     "name": "stdout",
     "output_type": "stream",
     "text": [
      "Logistic Regression: 0.5371666666666667\n",
      "KNN: 0.5188333333333334\n",
      "Decision Tree: 0.6135\n",
      "Random Forest: 0.7151666666666666\n",
      "Gradient Boosting: 0.6851666666666667\n"
     ]
    },
    {
     "name": "stderr",
     "output_type": "stream",
     "text": [
      "/usr/local/lib/python3.10/dist-packages/sklearn/ensemble/_weight_boosting.py:527: FutureWarning: The SAMME.R algorithm (the default) is deprecated and will be removed in 1.6. Use the SAMME algorithm to circumvent this warning.\n",
      "  warnings.warn(\n"
     ]
    },
    {
     "name": "stdout",
     "output_type": "stream",
     "text": [
      "AdaBoost: 0.6415\n",
      "XGBoost: 0.7068333333333333\n",
      "LDA: 0.5975\n",
      "SVM: 0.5421666666666667\n",
      "Gaussian Naive Bayes: 0.5706666666666667\n",
      "Neural Network MLP Classifier: 0.517\n",
      "Kmeans for Clustering: 0.09266666666666666\n",
      "[LightGBM] [Info] Auto-choosing row-wise multi-threading, the overhead of testing was 0.002794 seconds.\n",
      "You can set `force_row_wise=true` to remove the overhead.\n",
      "And if memory is not enough, you can set `force_col_wise=true`.\n",
      "[LightGBM] [Info] Total Bins 3676\n",
      "[LightGBM] [Info] Number of data points in the train set: 14000, number of used features: 23\n",
      "[LightGBM] [Info] Start training from score -1.228802\n",
      "[LightGBM] [Info] Start training from score -0.639065\n",
      "[LightGBM] [Info] Start training from score -1.717182\n",
      "LightGBM: 0.7046666666666667\n"
     ]
    },
    {
     "name": "stderr",
     "output_type": "stream",
     "text": [
      "/usr/local/lib/python3.10/dist-packages/sklearn/linear_model/_logistic.py:469: ConvergenceWarning: lbfgs failed to converge (status=1):\n",
      "STOP: TOTAL NO. of ITERATIONS REACHED LIMIT.\n",
      "\n",
      "Increase the number of iterations (max_iter) or scale the data as shown in:\n",
      "    https://scikit-learn.org/stable/modules/preprocessing.html\n",
      "Please also refer to the documentation for alternative solver options:\n",
      "    https://scikit-learn.org/stable/modules/linear_model.html#logistic-regression\n",
      "  n_iter_i = _check_optimize_result(\n"
     ]
    },
    {
     "name": "stdout",
     "output_type": "stream",
     "text": [
      "VotingClassifier: 0.5518333333333333\n",
      "Extra Trees: 0.6841666666666667\n"
     ]
    }
   ],
   "source": [
    "classifiers = {\n",
    "    \"Logistic Regression\": LogisticRegression(),\n",
    "    \"KNN\": KNeighborsClassifier(),\n",
    "    \"Decision Tree\": DecisionTreeClassifier(),\n",
    "    \"Random Forest\": RandomForestClassifier(),\n",
    "    \"Gradient Boosting\": GradientBoostingClassifier(),\n",
    "    \"AdaBoost\": AdaBoostClassifier(),\n",
    "    \"XGBoost\": XGBClassifier(),\n",
    "    \"LDA\": LinearDiscriminantAnalysis(),\n",
    "    \"SVM\": SVC(),\n",
    "    \"Gaussian Naive Bayes\": GaussianNB(),\n",
    "    \"Neural Network MLP Classifier\": MLPClassifier(),\n",
    "    \"Kmeans for Clustering\": KMeans(),\n",
    "    \"LightGBM\": LGBMClassifier(),\n",
    "    \"VotingClassifier\": VotingClassifier(estimators=[('lr', LogisticRegression()), ('dt', DecisionTreeClassifier()), ('svc', SVC())]),\n",
    "    \"Extra Trees\": ExtraTreesClassifier()}\n",
    "\n",
    "regressors = {\n",
    "    \"Linear Regression\": LinearRegression(),\n",
    "    \"KNN\": KNeighborsRegressor(),\n",
    "    \"Decision Tree\": DecisionTreeRegressor(),\n",
    "    \"Random Forest\": RandomForestRegressor(),\n",
    "    \"Gradient Boosting\": GradientBoostingRegressor(),\n",
    "    \"AdaBoost\": AdaBoostRegressor(),\n",
    "    \"XGBoost\": xgb.XGBRegressor(),\n",
    "    \"SVM \": SVR(),\n",
    "    \"MLP Regressor (Neural Network)\": MLPRegressor(),\n",
    "\n",
    "    \"LightGBM\": lgb.LGBMRegressor(),\n",
    "    \"Voting Regressor\": VotingRegressor(estimators=[\n",
    "        ('lr', LinearRegression()),\n",
    "        ('dt', DecisionTreeRegressor()),\n",
    "        ('svr', SVR())\n",
    "    ]),\n",
    "    \"Extra Trees\": ExtraTreesRegressor(),\n",
    "    \"Lasso\": Lasso(),\n",
    "    \"Ridge\": Ridge()}\n",
    "\n",
    "scores = {}\n",
    "\n",
    "for name, clf in classifiers.items():\n",
    "#for name, clf in regressors.items():\n",
    "    clf.fit(X_train, y_train)\n",
    "    y_pred = clf.predict(X_test)\n",
    "    accuracy = accuracy_score(y_test, y_pred)\n",
    "    scores[name] = round(accuracy,4)\n",
    "\n",
    "    #rmse = np.sqrt(mean_squared_error(y_test, y_pred))\n",
    "    #scores[name] = round(rmse,4)\n",
    "    #print(f\"{name}: {rmse}\")\n",
    "    print(f\"{name}: {accuracy}\")\n",
    "\n",
    "    #mae = (mean_absolute_error(y_test, y_pred))\n",
    "    #scores[name] = round(mae,4)\n"
   ]
  },
  {
   "cell_type": "code",
   "execution_count": 10,
   "metadata": {
    "colab": {
     "base_uri": "https://localhost:8080/"
    },
    "id": "8myWkkJvmrAB",
    "outputId": "0fc8305b-810e-4f4b-e42e-c5bccace83e2"
   },
   "outputs": [
    {
     "name": "stdout",
     "output_type": "stream",
     "text": [
      "{'Logistic Regression': 0.5372, 'KNN': 0.5188, 'Decision Tree': 0.6135, 'Random Forest': 0.7152, 'Gradient Boosting': 0.6852, 'AdaBoost': 0.6415, 'XGBoost': 0.7068, 'LDA': 0.5975, 'SVM': 0.5422, 'Gaussian Naive Bayes': 0.5707, 'Neural Network MLP Classifier': 0.517, 'Kmeans for Clustering': 0.0927, 'LightGBM': 0.7047, 'VotingClassifier': 0.5518, 'Extra Trees': 0.6842}\n"
     ]
    }
   ],
   "source": [
    "print(scores)"
   ]
  },
  {
   "cell_type": "code",
   "execution_count": 11,
   "metadata": {
    "colab": {
     "base_uri": "https://localhost:8080/"
    },
    "id": "r06ELrRFhtSU",
    "outputId": "f62e5552-2790-4e63-86d9-7c8515461f44"
   },
   "outputs": [
    {
     "name": "stdout",
     "output_type": "stream",
     "text": [
      "Random Forest 0.7152\n"
     ]
    }
   ],
   "source": [
    "# Find the best classifier based on accuracy\n",
    "best_model = max(scores, key=scores.get)\n",
    "best_accuracy = scores[best_model]\n",
    "\n",
    "print(best_model, best_accuracy)"
   ]
  },
  {
   "cell_type": "markdown",
   "metadata": {
    "id": "Ktt6cYKQX-H1"
   },
   "source": [
    "# Step 2"
   ]
  },
  {
   "cell_type": "code",
   "execution_count": 12,
   "metadata": {
    "colab": {
     "base_uri": "https://localhost:8080/"
    },
    "id": "3_O5SpO04Vs7",
    "outputId": "ca779408-5dea-47cf-fe19-96371aed44d9"
   },
   "outputs": [
    {
     "name": "stdout",
     "output_type": "stream",
     "text": [
      "100%|██████████| 100/100 [10:14<00:00,  6.15s/trial, best loss: -0.7166666666666667]\n",
      "{'classifier': 0, 'max_depth': 3, 'min_samples_leaf': 0, 'min_samples_split': 2, 'n_estimators': 3}\n"
     ]
    }
   ],
   "source": [
    "from hyperopt import fmin, tpe, hp, Trials, STATUS_OK\n",
    "from sklearn.model_selection import cross_val_score\n",
    "\n",
    "# Define the search space\n",
    "search_space = {\n",
    "    'classifier': hp.choice('classifier', [\n",
    "        {\n",
    "            'model': RandomForestClassifier,\n",
    "            'params': {\n",
    "                'n_estimators': hp.choice('n_estimators', [10, 50, 100, 200]),\n",
    "                'max_depth': hp.choice('max_depth', [5, 10, 15, None]),\n",
    "                'min_samples_split': hp.choice('min_samples_split', [2, 5, 10]),\n",
    "                'min_samples_leaf': hp.choice('min_samples_leaf', [1, 2, 4])\n",
    "\n",
    "\n",
    "            }\n",
    "        }\n",
    "    ])\n",
    "}\n",
    "\n",
    "# Define the objective function\n",
    "scores = []\n",
    "def objective(params):\n",
    "    model_class = params['classifier']['model']\n",
    "    model_params = params['classifier']['params']\n",
    "    model = model_class(**model_params)\n",
    "\n",
    "    #score = cross_val_score(model, X_train, y_train, cv=5, scoring='accuracy').mean()\n",
    "    #scores.append(score)\n",
    "    #return {'loss': -score, 'status': STATUS_OK}\n",
    "    model.fit(X_train_copy, y_train)\n",
    "    y_pred = model.predict(X_test_copy)\n",
    "    accuracy = accuracy_score(y_test, y_pred)\n",
    "    #score = np.sqrt(mean_squared_error(y_test, y_pred))\n",
    "\n",
    "    scores.append(accuracy)\n",
    "    return {'loss': -accuracy, 'status': STATUS_OK}\n",
    "\n",
    "# Run HyperOpt\n",
    "trials = Trials()\n",
    "best = fmin(fn=objective, space=search_space, algo=tpe.suggest, max_evals=100, trials=trials)\n",
    "\n",
    "print(best)"
   ]
  },
  {
   "cell_type": "code",
   "execution_count": 13,
   "metadata": {
    "colab": {
     "base_uri": "https://localhost:8080/"
    },
    "id": "hY-0I6AlManc",
    "outputId": "c84da7dd-76f8-45e3-ed63-69bb76fd9f73"
   },
   "outputs": [
    {
     "name": "stdout",
     "output_type": "stream",
     "text": [
      "iteration: 1: 0.6501666666666667\n",
      "iteration: 2: 0.6551666666666667\n",
      "iteration: 3: 0.6951666666666667\n",
      "iteration: 4: 0.7105\n",
      "iteration: 5: 0.709\n",
      "iteration: 6: 0.6488333333333334\n",
      "iteration: 7: 0.6818333333333333\n",
      "iteration: 8: 0.7163333333333334\n",
      "iteration: 9: 0.6945\n",
      "iteration: 10: 0.7075\n",
      "iteration: 11: 0.7048333333333333\n",
      "iteration: 12: 0.7121666666666666\n",
      "iteration: 13: 0.6895\n",
      "iteration: 14: 0.6805\n",
      "iteration: 15: 0.6466666666666666\n",
      "iteration: 16: 0.6778333333333333\n",
      "iteration: 17: 0.6478333333333334\n",
      "iteration: 18: 0.6791666666666667\n",
      "iteration: 19: 0.6853333333333333\n",
      "iteration: 20: 0.649\n",
      "iteration: 21: 0.7151666666666666\n",
      "iteration: 22: 0.7125\n",
      "iteration: 23: 0.708\n",
      "iteration: 24: 0.708\n",
      "iteration: 25: 0.7145\n",
      "iteration: 26: 0.713\n",
      "iteration: 27: 0.708\n",
      "iteration: 28: 0.709\n",
      "iteration: 29: 0.7055\n",
      "iteration: 30: 0.7068333333333333\n",
      "iteration: 31: 0.7071666666666667\n",
      "iteration: 32: 0.7145\n",
      "iteration: 33: 0.7086666666666667\n",
      "iteration: 34: 0.7116666666666667\n",
      "iteration: 35: 0.652\n",
      "iteration: 36: 0.7101666666666666\n",
      "iteration: 37: 0.7096666666666667\n",
      "iteration: 38: 0.711\n",
      "iteration: 39: 0.6975\n",
      "iteration: 40: 0.651\n",
      "iteration: 41: 0.6751666666666667\n",
      "iteration: 42: 0.7065\n",
      "iteration: 43: 0.6928333333333333\n",
      "iteration: 44: 0.71\n",
      "iteration: 45: 0.6793333333333333\n",
      "iteration: 46: 0.6523333333333333\n",
      "iteration: 47: 0.6923333333333334\n",
      "iteration: 48: 0.712\n",
      "iteration: 49: 0.6911666666666667\n",
      "iteration: 50: 0.6516666666666666\n",
      "iteration: 51: 0.7005\n",
      "iteration: 52: 0.693\n",
      "iteration: 53: 0.7118333333333333\n",
      "iteration: 54: 0.6846666666666666\n",
      "iteration: 55: 0.7155\n",
      "iteration: 56: 0.6498333333333334\n",
      "iteration: 57: 0.6883333333333334\n",
      "iteration: 58: 0.7086666666666667\n",
      "iteration: 59: 0.7051666666666667\n",
      "iteration: 60: 0.6873333333333334\n",
      "iteration: 61: 0.7076666666666667\n",
      "iteration: 62: 0.7115\n",
      "iteration: 63: 0.6515\n",
      "iteration: 64: 0.6926666666666667\n",
      "iteration: 65: 0.7093333333333334\n",
      "iteration: 66: 0.7113333333333334\n",
      "iteration: 67: 0.7118333333333333\n",
      "iteration: 68: 0.712\n",
      "iteration: 69: 0.714\n",
      "iteration: 70: 0.7146666666666667\n",
      "iteration: 71: 0.71\n",
      "iteration: 72: 0.7105\n",
      "iteration: 73: 0.7155\n",
      "iteration: 74: 0.7118333333333333\n",
      "iteration: 75: 0.7056666666666667\n",
      "iteration: 76: 0.6911666666666667\n",
      "iteration: 77: 0.713\n",
      "iteration: 78: 0.6513333333333333\n",
      "iteration: 79: 0.7081666666666667\n",
      "iteration: 80: 0.692\n",
      "iteration: 81: 0.7095\n",
      "iteration: 82: 0.683\n",
      "iteration: 83: 0.7143333333333334\n",
      "iteration: 84: 0.7148333333333333\n",
      "iteration: 85: 0.6553333333333333\n",
      "iteration: 86: 0.6931666666666667\n",
      "iteration: 87: 0.714\n",
      "iteration: 88: 0.7105\n",
      "iteration: 89: 0.6853333333333333\n",
      "iteration: 90: 0.7105\n",
      "iteration: 91: 0.651\n",
      "iteration: 92: 0.7076666666666667\n",
      "iteration: 93: 0.6903333333333334\n",
      "iteration: 94: 0.7076666666666667\n",
      "iteration: 95: 0.6868333333333333\n",
      "iteration: 96: 0.7125\n",
      "iteration: 97: 0.7166666666666667\n",
      "iteration: 98: 0.6533333333333333\n",
      "iteration: 99: 0.709\n",
      "iteration: 100: 0.6946666666666667\n"
     ]
    }
   ],
   "source": [
    "for i, value in enumerate(scores):\n",
    "    print(f\"iteration: {i+1}: {value}\")"
   ]
  },
  {
   "cell_type": "markdown",
   "metadata": {
    "id": "dnTcP81D4Xnb"
   },
   "source": [
    "# Step 3"
   ]
  },
  {
   "cell_type": "code",
   "execution_count": 15,
   "metadata": {
    "colab": {
     "base_uri": "https://localhost:8080/"
    },
    "id": "lFomLsfqAfkd",
    "outputId": "fe1d2337-238b-44c3-eaea-f362e244e1d7"
   },
   "outputs": [
    {
     "name": "stdout",
     "output_type": "stream",
     "text": [
      "Least iteration that outperformed the baseline: 8: 0.7163333333333334\n"
     ]
    }
   ],
   "source": [
    "for i, value in enumerate(scores):\n",
    "    if value > best_accuracy:\n",
    "        print(f\"Least iteration that outperformed the baseline: {i+1}: {value}\")\n",
    "        break  # Exit the loop once the condition is satisfied\n",
    "else:\n",
    "    # This block executes if the loop completes without hitting a `break`\n",
    "    print(\"No value outperformed the baseline.\")"
   ]
  },
  {
   "cell_type": "code",
   "execution_count": 16,
   "metadata": {
    "colab": {
     "base_uri": "https://localhost:8080/",
     "height": 582
    },
    "id": "2F_Y0aOGLPl9",
    "outputId": "a0a94de6-0bc0-4524-d731-ad685c0eecf2"
   },
   "outputs": [
    {
     "data": {
      "image/png": "[encoded data removed]",
      "text/plain": [
       "<Figure size 1000x600 with 1 Axes>"
      ]
     },
     "metadata": {},
     "output_type": "display_data"
    },
    {
     "name": "stdout",
     "output_type": "stream",
     "text": [
      "The maximum accuracy of 0.71667 was achieved at iteration 97.\n"
     ]
    }
   ],
   "source": [
    "import matplotlib.pyplot as plt\n",
    "\n",
    "# Assume 'scores' contains the list of scores from each iteration\n",
    "# Enumerate and plot scores\n",
    "iterations = list(range(1, len(scores) + 1))  # Iterations (1, 2, 3, ..., len(scores))\n",
    "\n",
    "plt.figure(figsize=(10, 6))\n",
    "plt.plot(iterations, scores, marker='o', linestyle='-', color='b')\n",
    "plt.title(\"Model Performance Across Iterations\")\n",
    "plt.xlabel(\"Iteration\")\n",
    "plt.ylabel(\"Cross-Validation Accuracy\")\n",
    "plt.grid(True)\n",
    "\n",
    "# Highlight the maximum score achieved\n",
    "max_score = max(scores)\n",
    "max_iteration = scores.index(max_score) + 1\n",
    "\n",
    "plt.scatter(max_iteration, max_score, color='red', s=100, label=f\"Max Score: {max_score:.3f}\")\n",
    "plt.legend()\n",
    "\n",
    "plt.show()\n",
    "\n",
    "print(f\"The maximum accuracy of {max_score:.5f} was achieved at iteration {max_iteration}.\")"
   ]
  },
  {
   "cell_type": "markdown",
   "metadata": {
    "id": "cy3SeN1r4YmB"
   },
   "source": [
    "# Step 4"
   ]
  },
  {
   "cell_type": "code",
   "execution_count": 39,
   "metadata": {
    "colab": {
     "base_uri": "https://localhost:8080/"
    },
    "id": "41wrwwSU4YyZ",
    "outputId": "047204d1-3932-45a3-bdcc-a6666ce80550"
   },
   "outputs": [
    {
     "name": "stdout",
     "output_type": "stream",
     "text": [
      "Contingency Table:\n",
      "             baseline_correct baseline_wrong\n",
      "best_correct             4040            236\n",
      "best_wrong                254           1470\n",
      "pvalue      0.4424980466684393\n",
      "statistic   0.5897959183673469\n",
      "pvalue      0.4161279849262569\n",
      "statistic   0.6612244897959184\n"
     ]
    }
   ],
   "source": [
    "# in case of classification model:\n",
    "\n",
    "from scipy import stats\n",
    "mc_data=pd.DataFrame()\n",
    "rf=RandomForestClassifier(random_state=0)\n",
    "rf.fit(X_train, y_train)\n",
    "y_pred_baseline = rf.predict(X_test)\n",
    "accuracy = accuracy_score(y_test, y_pred_baseline)\n",
    "\n",
    "rf_best = RandomForestClassifier(random_state=0, max_depth =None, min_samples_leaf=1, min_samples_split=10, n_estimators= 200) # change according to best\n",
    "rf_best.fit(X_train, y_train)\n",
    "y_pred_best = rf_best.predict(X_test)\n",
    "accuracy = accuracy_score(y_test, y_pred_best)\n",
    "\n",
    "mc_data[\"Y_true\"]=y_test.tolist()\n",
    "mc_data[\"y_pred_baseline\"]=y_pred_baseline\n",
    "mc_data[\"y_pred_best\"]=y_pred_best\n",
    "\n",
    "contingency_table = np.zeros((2,2)).astype(int)\n",
    "\n",
    "for index, row in mc_data.iterrows():\n",
    "    y_pred_baseline = row['y_pred_baseline']\n",
    "    y_pred_best = row['y_pred_best']\n",
    "    y_true = row['Y_true']\n",
    "\n",
    "    # Determine if each model is correct\n",
    "    baseline_correct = (y_pred_baseline == y_true)\n",
    "    best_correct = (y_pred_best == y_true)\n",
    "\n",
    "    # Fill the contingency table\n",
    "    if baseline_correct and best_correct:  # Both models are correct\n",
    "        contingency_table[0, 0] += 1\n",
    "    elif not baseline_correct and best_correct:\n",
    "        contingency_table[0, 1] += 1\n",
    "    elif baseline_correct and not best_correct:\n",
    "        contingency_table[1, 0] += 1\n",
    "    else:  # Both models are wrong\n",
    "        contingency_table[1, 1] += 1\n",
    "\n",
    "# Print the contingency table\n",
    "print(\"Contingency Table:\")\n",
    "contingency_table\n",
    "\n",
    "contingency_table_df=pd.DataFrame(data={\"baseline_correct\":['',''], \"baseline_wrong\":['','']}, index=[\"best_correct\",\"best_wrong\"])\n",
    "contingency_table_df.iloc[:,:]=contingency_table\n",
    "print(contingency_table_df)\n",
    "'''res = stats.chi2_contingency(contingency_table_df)\n",
    "print(f\"Chi2 test result: {res.statistic}\")\n",
    "# c)\n",
    "print(f\"Chi2 p-value: {res.pvalue}\")'''\n",
    "\n",
    "# McNemar's Test without any continuity correction\n",
    "print(mcnemar(contingency_table, exact=False))\n",
    "\n",
    "# McNemar's Test with the continuity correction\n",
    "print(mcnemar(contingency_table, exact=False, correction=False))"
   ]
  },
  {
   "cell_type": "code",
   "execution_count": 40,
   "metadata": {
    "colab": {
     "base_uri": "https://localhost:8080/"
    },
    "id": "QkErJT92Gx_Y",
    "outputId": "d06e9535-916b-49f5-d39b-c59aa0eb2d6b"
   },
   "outputs": [
    {
     "name": "stdout",
     "output_type": "stream",
     "text": [
      "The difference in performance between the constructed pipeline and the baseline is not statistically significant, p-value is  0.4424980466684393\n"
     ]
    }
   ],
   "source": [
    "from scipy.stats import chi2\n",
    "\n",
    "b = contingency_table[1, 0]  # baseline wrong, best correct\n",
    "c = contingency_table[0, 1]  # baseline correct, best wrong\n",
    "\n",
    "# McNemar's test statistic\n",
    "mcnemar_stat = (abs(b - c) - 1) ** 2 / (b + c)\n",
    "\n",
    "# Degrees of freedom\n",
    "df = 1\n",
    "\n",
    "# p-value for chi-squared distribution with 1 degree of freedom\n",
    "p_value = chi2.sf(mcnemar_stat, df)\n",
    "\n",
    "if p_value < 0.05:\n",
    "    print(\"The difference in performance between the constructed pipeline and the baseline is statistically significant with p-value \", p_value)\n",
    "else:\n",
    "    # This block executes if the loop completes without hitting a `break`\n",
    "    print(\"The difference in performance between the constructed pipeline and the baseline is not statistically significant, p-value is \", p_value)\n"
   ]
  }
 ],
 "metadata": {
  "colab": {
   "provenance": []
  },
  "kernelspec": {
   "display_name": "Python 3",
   "name": "python3"
  },
  "language_info": {
   "name": "python"
  }
 },
 "nbformat": 4,
 "nbformat_minor": 0
}
